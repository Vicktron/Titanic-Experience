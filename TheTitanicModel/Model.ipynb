{
 "cells": [
  {
   "cell_type": "code",
   "execution_count": 58,
   "outputs": [],
   "source": [
    "import pandas as pd # data processing, CSV file I/O (e.g. pd.read_csv)\n"
   ],
   "metadata": {
    "collapsed": false,
    "pycharm": {
     "name": "#%%\n",
     "is_executing": false
    }
   }
  },
  {
   "cell_type": "code",
   "execution_count": 59,
   "outputs": [],
   "source": [
    "train = pd.read_csv('tittrain.csv')\n",
    "test = pd.read_csv('tittest.csv')\n"
   ],
   "metadata": {
    "collapsed": false,
    "pycharm": {
     "name": "#%%\n",
     "is_executing": false
    }
   }
  },
  {
   "cell_type": "code",
   "execution_count": 60,
   "outputs": [],
   "source": [
    "train_test_combined = [train, test]\n",
    "\n",
    "for dataset in train_test_combined:\n",
    "    dataset[\"Title\"] = dataset['Name'].str.extract(' ([A-Za-z]+)\\.', expand = False)\n",
    "    \n",
    "title_mapping = {'Mr': 0, 'Miss': 1,'Mrs': 2, 'Master': 3, 'Dr': 3,'Rev': 3, 'Col': 3, 'Dona': 3,\n",
    "                 'Major': 3,'Mlle': 2,'Mme': 1,'Countess'  :1,'Sir': 1,'Jonkheer': 1,'Ms': 1,'Don': 1,'Capt': 1,\n",
    "                 'Lady': 1\n",
    "                }\n",
    "\n",
    "for dataset in train_test_combined:\n",
    "    dataset['Title'] = dataset['Title'].map(title_mapping)"
   ],
   "metadata": {
    "collapsed": false,
    "pycharm": {
     "name": "#%%\n",
     "is_executing": false
    }
   }
  },
  {
   "cell_type": "code",
   "execution_count": 61,
   "outputs": [],
   "source": [
    "#Since we derived Title from Name, we can remove the Name feature from the Datasets\n",
    "train.drop([\"Name\"], axis = 1, inplace = True)\n",
    "test.drop([\"Name\"], axis = 1, inplace = True)"
   ],
   "metadata": {
    "collapsed": false,
    "pycharm": {
     "name": "#%%\n",
     "is_executing": false
    }
   }
  },
  {
   "cell_type": "code",
   "execution_count": 62,
   "outputs": [],
   "source": [
    "sex_mapping = {'male': 0, 'female': 1}\n",
    "for dataset in train_test_combined:\n",
    "    dataset['Sex'] = dataset['Sex'].map(sex_mapping)"
   ],
   "metadata": {
    "collapsed": false,
    "pycharm": {
     "name": "#%%\n",
     "is_executing": false
    }
   }
  },
  {
   "cell_type": "code",
   "execution_count": 63,
   "outputs": [
    {
     "name": "stdout",
     "text": [
      "None\n"
     ],
     "output_type": "stream"
    }
   ],
   "source": [
    "#there are Null values in Age column. impute Age values\n",
    "# using median values for age based on Title to impute \n",
    "\n",
    "train['Age'].fillna(train.groupby('Title')['Age'].transform(\"median\"), inplace = True)\n",
    "check = test['Age'].fillna(test.groupby('Title')['Age'].transform(\"median\"), inplace = True)\n",
    "print(check)"
   ],
   "metadata": {
    "collapsed": false,
    "pycharm": {
     "name": "#%%\n",
     "is_executing": false
    }
   }
  },
  {
   "cell_type": "code",
   "execution_count": 64,
   "outputs": [],
   "source": [
    "for dataset in train_test_combined:\n",
    "    dataset.loc[ (dataset[\"Age\"] <= 16), 'Age' ] = 0\n",
    "    dataset.loc[ (dataset[\"Age\"] > 16) & (dataset[\"Age\"] <= 26), 'Age' ] = 1\n",
    "    dataset.loc[ (dataset[\"Age\"] > 26) & (dataset[\"Age\"] <= 36), 'Age' ] = 2\n",
    "    dataset.loc[ (dataset[\"Age\"] > 36 ) & ( dataset[\"Age\"] <= 62), 'Age' ] = 3\n",
    "    dataset.loc[ (dataset[\"Age\"] > 62), 'Age' ] = 4"
   ],
   "metadata": {
    "collapsed": false,
    "pycharm": {
     "name": "#%%\n",
     "is_executing": false
    }
   }
  },
  {
   "cell_type": "code",
   "execution_count": 65,
   "outputs": [],
   "source": [
    "#Fill out missing value for Embark as S as majority of data set is from S \n",
    "for dataset in train_test_combined:\n",
    "    dataset['Embarked'].fillna('S', inplace = True)"
   ],
   "metadata": {
    "collapsed": false,
    "pycharm": {
     "name": "#%%\n",
     "is_executing": false
    }
   }
  },
  {
   "cell_type": "code",
   "execution_count": 66,
   "outputs": [],
   "source": [
    "embark_mapping = {\"S\":0, \"C\":1, \"Q\":2}\n",
    "for dataset in train_test_combined:\n",
    "    dataset[\"Embarked\"] = dataset[\"Embarked\"].map(embark_mapping)"
   ],
   "metadata": {
    "collapsed": false,
    "pycharm": {
     "name": "#%%\n",
     "is_executing": false
    }
   }
  },
  {
   "cell_type": "code",
   "execution_count": 67,
   "outputs": [],
   "source": [
    "# Fare\n",
    "train[\"Fare\"].fillna(train.groupby('Pclass')['Fare'].transform(\"median\"), inplace = True)\n",
    "test[\"Fare\"].fillna(test.groupby('Pclass')['Fare'].transform(\"median\"), inplace = True)"
   ],
   "metadata": {
    "collapsed": false,
    "pycharm": {
     "name": "#%%\n",
     "is_executing": false
    }
   }
  },
  {
   "cell_type": "code",
   "execution_count": 68,
   "outputs": [],
   "source": [
    "for dataset in train_test_combined:\n",
    "    dataset.loc[ dataset[\"Fare\"]<=17, \"Fare\"] = 0\n",
    "    dataset.loc[ (dataset[\"Fare\"]>17) & (dataset[\"Fare\"]<=30), \"Fare\"] = 1\n",
    "    dataset.loc[ (dataset[\"Fare\"]>30) & (dataset[\"Fare\"]<=100), \"Fare\"] = 2\n",
    "    dataset.loc[ dataset[\"Fare\"]> 100, \"Fare\"] = 3"
   ],
   "metadata": {
    "collapsed": false,
    "pycharm": {
     "name": "#%%\n",
     "is_executing": false
    }
   }
  },
  {
   "cell_type": "code",
   "execution_count": 69,
   "outputs": [],
   "source": [
    "for dataset in train_test_combined:\n",
    "    dataset[\"Cabin\"] = dataset[\"Cabin\"].str[:1]\n",
    "    \n",
    "cabin_mapping = {'A': 0, \"B\": 0.4, \"C\": 0.8, \"D\": 1.2, \"E\": 1.6, \"F\": 2.0, \"G\": 2.4, \"T\": 2.8}\n",
    "for dataset in train_test_combined:\n",
    "    dataset[\"Cabin\"] = dataset[\"Cabin\"].map(cabin_mapping)"
   ],
   "metadata": {
    "collapsed": false,
    "pycharm": {
     "name": "#%%\n",
     "is_executing": false
    }
   }
  },
  {
   "cell_type": "code",
   "execution_count": 70,
   "outputs": [],
   "source": [
    "train.Cabin.fillna(train.groupby(\"Pclass\")[\"Cabin\"].transform(\"median\"), inplace = True)\n",
    "test.Cabin.fillna(test.groupby(\"Pclass\")[\"Cabin\"].transform(\"median\"), inplace = True)"
   ],
   "metadata": {
    "collapsed": false,
    "pycharm": {
     "name": "#%% \n",
     "is_executing": false
    }
   }
  },
  {
   "cell_type": "code",
   "execution_count": 71,
   "outputs": [],
   "source": [
    "#FamilySize\n",
    "train[\"FamilySize\"] = train.Parch + train.SibSp + 1\n",
    "test[\"FamilySize\"] = test.Parch + test.SibSp + 1\n",
    "\n",
    "family_mapping = {1:0.0, 2:0.4, 3:0.8, 4:1.2, 5:1.6, 6:2.0, 7:2.4, 8:2.8, 9:3.2, 10:3.6, 11:4}\n",
    "for dataset in train_test_combined:\n",
    "    dataset[\"FamilySize\"] = dataset[\"FamilySize\"].map(family_mapping)"
   ],
   "metadata": {
    "collapsed": false,
    "pycharm": {
     "name": "#%%\n",
     "is_executing": false
    }
   }
  },
  {
   "cell_type": "code",
   "execution_count": 72,
   "outputs": [],
   "source": [
    "drop_features = ['Parch','SibSp', 'Ticket']\n",
    "for dataset in train_test_combined:\n",
    "    dataset.drop(drop_features, axis = 1, inplace = True)"
   ],
   "metadata": {
    "collapsed": false,
    "pycharm": {
     "name": "#%%\n",
     "is_executing": false
    }
   }
  },
  {
   "cell_type": "code",
   "execution_count": 73,
   "outputs": [],
   "source": [
    "#Train Data\n",
    "train_data = train.drop([\"PassengerId\",\"Survived\"], axis = 1)\n",
    "target = train[\"Survived\"]\n",
    "test_data = test.drop([\"PassengerId\"], axis = 1)"
   ],
   "metadata": {
    "collapsed": false,
    "pycharm": {
     "name": "#%% \n",
     "is_executing": false
    }
   }
  },
  {
   "cell_type": "code",
   "execution_count": 74,
   "outputs": [],
   "source": [
    "from sklearn.model_selection import train_test_split\n",
    "\n",
    "X_train, X_test, y_train, y_test = train_test_split(train_data,target, test_size = 0.3, random_state = 40)\n"
   ],
   "metadata": {
    "collapsed": false,
    "pycharm": {
     "name": "#%%\n",
     "is_executing": false
    }
   }
  },
  {
   "cell_type": "code",
   "execution_count": 75,
   "outputs": [
    {
     "data": {
      "text/plain": "['TitanicSurvival.joblib']"
     },
     "metadata": {},
     "output_type": "execute_result",
     "execution_count": 75
    }
   ],
   "source": [
    "from sklearn.ensemble import RandomForestClassifier\n",
    "from sklearn.externals import joblib\n",
    "model = RandomForestClassifier(n_estimators=100, bootstrap=True, max_features='sqrt',criterion=\"entropy\",max_depth=6, oob_score=True)\n",
    "model.fit(X_train, y_train)\n",
    "# joblib.dump(model, 'TitanicSurvival.joblib')"
   ],
   "metadata": {
    "collapsed": false,
    "pycharm": {
     "name": "#%%\n",
     "is_executing": false
    }
   }
  },
  {
   "cell_type": "code",
   "execution_count": null,
   "outputs": [],
   "source": [
    "\n"
   ],
   "metadata": {
    "collapsed": false,
    "pycharm": {
     "name": "#%%\n"
    }
   }
  }
 ],
 "metadata": {
  "language_info": {
   "codemirror_mode": {
    "name": "ipython",
    "version": 2
   },
   "file_extension": ".py",
   "mimetype": "text/x-python",
   "name": "python",
   "nbconvert_exporter": "python",
   "pygments_lexer": "ipython2",
   "version": "2.7.6"
  },
  "kernelspec": {
   "name": "python3",
   "language": "python",
   "display_name": "Python 3"
  },
  "pycharm": {
   "stem_cell": {
    "cell_type": "raw",
    "source": [],
    "metadata": {
     "collapsed": false
    }
   }
  }
 },
 "nbformat": 4,
 "nbformat_minor": 0
}